{
 "cells": [
  {
   "cell_type": "markdown",
   "metadata": {},
   "source": [
    "This notebook contains a small analysis of the dataset we are working with."
   ]
  },
  {
   "cell_type": "code",
   "execution_count": 1,
   "metadata": {},
   "outputs": [],
   "source": [
    "import pandas as pd"
   ]
  },
  {
   "cell_type": "markdown",
   "metadata": {},
   "source": [
    "#### Reading the dataset"
   ]
  },
  {
   "cell_type": "code",
   "execution_count": 2,
   "metadata": {},
   "outputs": [],
   "source": [
    "df = pd.read_csv(\"data.tsv\",sep=\"\\t\")"
   ]
  },
  {
   "cell_type": "markdown",
   "metadata": {},
   "source": [
    "#### Details about the Dataset"
   ]
  },
  {
   "cell_type": "code",
   "execution_count": 3,
   "metadata": {},
   "outputs": [],
   "source": [
    "schema_df = pd.read_csv('schema.csv', index_col='column name')\n",
    "schema_df;"
   ]
  },
  {
   "cell_type": "code",
   "execution_count": 4,
   "metadata": {},
   "outputs": [],
   "source": [
    "df['Selected'].value_counts();"
   ]
  },
  {
   "cell_type": "markdown",
   "metadata": {},
   "source": [
    "#### Cleaning the Dataset for preprocessing\n",
    "\n",
    "- The column named `Unnamed: 22` is removed\n",
    "- Longer Columns Names are reduced to short names\n",
    "- Changing inputs from the `Selected` column to `True` or `False` \n",
    "- Rounding up the Age"
   ]
  },
  {
   "cell_type": "code",
   "execution_count": 5,
   "metadata": {},
   "outputs": [],
   "source": [
    "# removing the a column for the dataframe\n",
    "del df['Unnamed: 22']\n",
    "# changing the names of the columns\n",
    "df.rename(columns={'What do you think is your life’s purpose and why do you think having a purpose is important? (100 words or less)':'Purpose','Describe 5 things that attracted you to Unilever.':'About company'}, inplace=True)\n",
    "# changing all the Yes and No to True or False\n",
    "df['Selected'] = df['Selected'].map({'Yes':True,'No':False})\n",
    "# rounding off the age\n",
    "df['Age'] = df['Age'].apply(round)"
   ]
  },
  {
   "cell_type": "markdown",
   "metadata": {},
   "source": [
    "#### Importing modules for NLP"
   ]
  },
  {
   "cell_type": "code",
   "execution_count": 6,
   "metadata": {},
   "outputs": [],
   "source": [
    "from nltk.tokenize import sent_tokenize, word_tokenize, PunktSentenceTokenizer\n",
    "from nltk.corpus import stopwords\n",
    "from nltk import ne_chunk\n",
    "from nltk import pos_tag\n",
    "from re import sub\n",
    "\n",
    "STOPWORDS = set(stopwords.words(\"english\"))"
   ]
  },
  {
   "cell_type": "markdown",
   "metadata": {},
   "source": [
    "#### Algorithms for cleaning up sentences"
   ]
  },
  {
   "cell_type": "code",
   "execution_count": 7,
   "metadata": {},
   "outputs": [],
   "source": [
    "from src.utils.clean_sentences import cleanup_sentence, cleanup_bulletpoints, cleanup_brackets"
   ]
  },
  {
   "cell_type": "markdown",
   "metadata": {},
   "source": [
    "#### Scoring Algorithm for Clubs"
   ]
  },
  {
   "cell_type": "code",
   "execution_count": 10,
   "metadata": {},
   "outputs": [],
   "source": [
    "from src.utils.extract_keypoints_clubs import clubs_main"
   ]
  },
  {
   "cell_type": "code",
   "execution_count": 11,
   "metadata": {},
   "outputs": [],
   "source": [
    "df[\"Clubs & Associations\"] = df[\"Clubs & Associations\"].fillna(\"None\")"
   ]
  },
  {
   "cell_type": "code",
   "execution_count": 12,
   "metadata": {},
   "outputs": [],
   "source": [
    "df[\"Clubs & Associations\"] = df[\"Clubs & Associations\"].apply(clubs_main)"
   ]
  },
  {
   "cell_type": "markdown",
   "metadata": {},
   "source": [
    "#### Scoring algorithm for prof. qualification"
   ]
  },
  {
   "cell_type": "code",
   "execution_count": 13,
   "metadata": {},
   "outputs": [],
   "source": [
    "from src.utils.extract_keypoints_qualification import prof_qualification_main"
   ]
  },
  {
   "cell_type": "code",
   "execution_count": 14,
   "metadata": {},
   "outputs": [],
   "source": [
    "df['Professional Qualification'] = df['Professional Qualification'].fillna(\"None\")"
   ]
  },
  {
   "cell_type": "code",
   "execution_count": 15,
   "metadata": {},
   "outputs": [],
   "source": [
    "df[\"Professional Qualification\"] = df[\"Professional Qualification\"].apply(prof_qualification_main) "
   ]
  },
  {
   "cell_type": "markdown",
   "metadata": {},
   "source": [
    "#### Calculating the score for sports"
   ]
  },
  {
   "cell_type": "code",
   "execution_count": 16,
   "metadata": {},
   "outputs": [],
   "source": [
    "from src.utils.extract_keypoints_sport import sports_main"
   ]
  },
  {
   "cell_type": "code",
   "execution_count": 17,
   "metadata": {},
   "outputs": [],
   "source": [
    "df['Sports'] = df['Sports'].fillna(\"None\")"
   ]
  },
  {
   "cell_type": "code",
   "execution_count": 18,
   "metadata": {},
   "outputs": [],
   "source": [
    "df['Sports'] = df['Sports'].apply(sports_main)"
   ]
  },
  {
   "cell_type": "code",
   "execution_count": 19,
   "metadata": {},
   "outputs": [],
   "source": [
    "filt = (df[\"Selected\"] == True);"
   ]
  },
  {
   "cell_type": "code",
   "execution_count": 20,
   "metadata": {},
   "outputs": [],
   "source": [
    "df.loc[filt,[\"Name\",\"Sports\"]];"
   ]
  },
  {
   "cell_type": "markdown",
   "metadata": {},
   "source": [
    "#### Calculating the score for leadership"
   ]
  },
  {
   "cell_type": "code",
   "execution_count": 42,
   "metadata": {},
   "outputs": [],
   "source": [
    "keyword = [\"President\", \"Leader\", \"Team Leader\", \"Treasurer\",\\\n",
    "           \"Secretory\", \"Captain\", \"prefect\", \"active member\"]\n",
    "group_1 = {\"President\", \"Captain\", \"Leader\"}\n",
    "group_2 = {\"Team Leader\",\"Treasurer\"}\n",
    "group_3 = {\"Secretory\", \"prefect\", \"active member\"}"
   ]
  },
  {
   "cell_type": "code",
   "execution_count": 24,
   "metadata": {},
   "outputs": [],
   "source": [
    "def advanced_search_qualification(sentence):\n",
    "    \"\"\"search if any keyword is mentioned in the\n",
    "    sentence (advanced) and gives a score to the\n",
    "    sentence.\n",
    "    - scoring -\n",
    "    check calculate_score_qualification function\n",
    "    \"\"\"\n",
    "    score = 0\n",
    "    words = word_tokenize(sentence)\n",
    "    tagged = pos_tag(words)\n",
    "    namedEnt = ne_chunk(tagged)\n",
    "    tree = list({(\" \".join(c[0] for c in chunk), chunk.label())\n",
    "                 for chunk in namedEnt if hasattr(chunk, 'label')})\n",
    "    return tree"
   ]
  },
  {
   "cell_type": "code",
   "execution_count": 55,
   "metadata": {},
   "outputs": [],
   "source": [
    "def calculate_score_leadership(sentence):\n",
    "    \"\"\"\n",
    "    \"\"\"\n",
    "    # if it is in group 1 score is 1.5\n",
    "    group_1 = {\"President\", \"Captain\", \"Leader\"}\n",
    "    # if it is in group 2 score is 1.0\n",
    "    group_2 = {\"Team Leader\",\"Treasurer\"}\n",
    "    # if it is in group 3 score is 0.5\n",
    "    group_3 = {\"Secretory\", \"prefect\", \"active member\"}\n",
    "    word_set = set(word_tokenize(sentence))\n",
    "    score = len(word_set.intersection(group_1)) * 1.5 + len(word_set.intersection(group_2)) + len(word_set.intersection(group_3)) * 0.5\n",
    "    return score"
   ]
  },
  {
   "cell_type": "code",
   "execution_count": 56,
   "metadata": {},
   "outputs": [
    {
     "name": "stdout",
     "output_type": "stream",
     "text": [
      "Vice President (External Relations) Blue Marble project - AIESEC  Vice President, Committee member - Human Resource Guild Junior prefect Vice President - English Literary Association\n"
     ]
    },
    {
     "data": {
      "text/plain": [
       "2.0"
      ]
     },
     "execution_count": 56,
     "metadata": {},
     "output_type": "execute_result"
    }
   ],
   "source": [
    "sentence = df.loc[4, \"Leadership\"]\n",
    "print(sentence)\n",
    "sentence = cleanup_bulletpoints(cleanup_brackets(sentence))\n",
    "filter_sentence = cleanup_sentence(sentence)\n",
    "calculate_score_leadership(filter_sentence)"
   ]
  },
  {
   "cell_type": "code",
   "execution_count": null,
   "metadata": {},
   "outputs": [],
   "source": []
  },
  {
   "cell_type": "code",
   "execution_count": null,
   "metadata": {},
   "outputs": [],
   "source": []
  },
  {
   "cell_type": "code",
   "execution_count": null,
   "metadata": {},
   "outputs": [],
   "source": []
  }
 ],
 "metadata": {
  "kernelspec": {
   "display_name": "Python 3",
   "language": "python",
   "name": "python3"
  },
  "language_info": {
   "codemirror_mode": {
    "name": "ipython",
    "version": 3
   },
   "file_extension": ".py",
   "mimetype": "text/x-python",
   "name": "python",
   "nbconvert_exporter": "python",
   "pygments_lexer": "ipython3",
   "version": "3.8.5"
  }
 },
 "nbformat": 4,
 "nbformat_minor": 4
}
