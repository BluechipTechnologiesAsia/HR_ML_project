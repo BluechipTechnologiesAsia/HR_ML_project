{
 "cells": [
  {
   "cell_type": "markdown",
   "metadata": {},
   "source": [
    "    This notebook contains a small analysis of the dataset we are working with."
   ]
  },
  {
   "cell_type": "code",
   "execution_count": 1,
   "metadata": {},
   "outputs": [],
   "source": [
    "import pandas as pd"
   ]
  },
  {
   "cell_type": "markdown",
   "metadata": {},
   "source": [
    "#### Reading the dataset"
   ]
  },
  {
   "cell_type": "code",
   "execution_count": 2,
   "metadata": {},
   "outputs": [],
   "source": [
    "df = pd.read_csv(\"data.tsv\",sep=\"\\t\")"
   ]
  },
  {
   "cell_type": "markdown",
   "metadata": {},
   "source": [
    "#### Details about the Dataset"
   ]
  },
  {
   "cell_type": "code",
   "execution_count": 3,
   "metadata": {},
   "outputs": [
    {
     "data": {
      "text/html": [
       "<div>\n",
       "<style scoped>\n",
       "    .dataframe tbody tr th:only-of-type {\n",
       "        vertical-align: middle;\n",
       "    }\n",
       "\n",
       "    .dataframe tbody tr th {\n",
       "        vertical-align: top;\n",
       "    }\n",
       "\n",
       "    .dataframe thead th {\n",
       "        text-align: right;\n",
       "    }\n",
       "</style>\n",
       "<table border=\"1\" class=\"dataframe\">\n",
       "  <thead>\n",
       "    <tr style=\"text-align: right;\">\n",
       "      <th></th>\n",
       "      <th>description</th>\n",
       "    </tr>\n",
       "    <tr>\n",
       "      <th>column name</th>\n",
       "      <th></th>\n",
       "    </tr>\n",
       "  </thead>\n",
       "  <tbody>\n",
       "    <tr>\n",
       "      <th>Name</th>\n",
       "      <td>Name of the person</td>\n",
       "    </tr>\n",
       "    <tr>\n",
       "      <th>Selected</th>\n",
       "      <td>Whether the person is selected to work in the ...</td>\n",
       "    </tr>\n",
       "    <tr>\n",
       "      <th>Date of Birth</th>\n",
       "      <td>Date of birth</td>\n",
       "    </tr>\n",
       "    <tr>\n",
       "      <th>Age</th>\n",
       "      <td>How old the person is</td>\n",
       "    </tr>\n",
       "    <tr>\n",
       "      <th>Gender</th>\n",
       "      <td>Male or Female</td>\n",
       "    </tr>\n",
       "    <tr>\n",
       "      <th>LinkedIn Profile</th>\n",
       "      <td>link to a linkedin profile</td>\n",
       "    </tr>\n",
       "    <tr>\n",
       "      <th>University</th>\n",
       "      <td>Name of the university</td>\n",
       "    </tr>\n",
       "    <tr>\n",
       "      <th>Other</th>\n",
       "      <td>Name of School (if included)</td>\n",
       "    </tr>\n",
       "    <tr>\n",
       "      <th>Degree Course</th>\n",
       "      <td>Name of the Course</td>\n",
       "    </tr>\n",
       "    <tr>\n",
       "      <th>Area Of Study</th>\n",
       "      <td>Specilization of the degree</td>\n",
       "    </tr>\n",
       "    <tr>\n",
       "      <th>Graduation</th>\n",
       "      <td>Year of Graduation</td>\n",
       "    </tr>\n",
       "    <tr>\n",
       "      <th>Duration</th>\n",
       "      <td>Duration of the Course</td>\n",
       "    </tr>\n",
       "    <tr>\n",
       "      <th>Class</th>\n",
       "      <td>Current Class in the Degree</td>\n",
       "    </tr>\n",
       "    <tr>\n",
       "      <th>Professional Qualification</th>\n",
       "      <td>Professional Qualifications</td>\n",
       "    </tr>\n",
       "    <tr>\n",
       "      <th>Clubs &amp; Associations</th>\n",
       "      <td>Names of Clubs and Other extra activities</td>\n",
       "    </tr>\n",
       "    <tr>\n",
       "      <th>Sports</th>\n",
       "      <td>Names of Sports</td>\n",
       "    </tr>\n",
       "    <tr>\n",
       "      <th>Leadership</th>\n",
       "      <td>Activites/Clubs involving leadership training</td>\n",
       "    </tr>\n",
       "    <tr>\n",
       "      <th>Skills &amp; Abilities</th>\n",
       "      <td>Skills developed through said activities/trai...</td>\n",
       "    </tr>\n",
       "    <tr>\n",
       "      <th>Working Experince</th>\n",
       "      <td>Histroy of Work Experinence</td>\n",
       "    </tr>\n",
       "    <tr>\n",
       "      <th>Function</th>\n",
       "      <td>Current Role the candidate applying to</td>\n",
       "    </tr>\n",
       "    <tr>\n",
       "      <th>Source</th>\n",
       "      <td>\"Where did you heard about this job?\"</td>\n",
       "    </tr>\n",
       "    <tr>\n",
       "      <th>Purpose</th>\n",
       "      <td>What do you think is your life’s purpose and ...</td>\n",
       "    </tr>\n",
       "    <tr>\n",
       "      <th>About company</th>\n",
       "      <td>About the company</td>\n",
       "    </tr>\n",
       "  </tbody>\n",
       "</table>\n",
       "</div>"
      ],
      "text/plain": [
       "                                                                  description\n",
       "column name                                                                  \n",
       "Name                                                       Name of the person\n",
       "Selected                    Whether the person is selected to work in the ...\n",
       "Date of Birth                                                   Date of birth\n",
       "Age                                                     How old the person is\n",
       "Gender                                                         Male or Female\n",
       "LinkedIn Profile                                   link to a linkedin profile\n",
       "University                                             Name of the university\n",
       "Other                                            Name of School (if included)\n",
       "Degree Course                                              Name of the Course\n",
       "Area Of Study                                     Specilization of the degree\n",
       "Graduation                                                 Year of Graduation\n",
       "Duration                                               Duration of the Course\n",
       "Class                                             Current Class in the Degree\n",
       "Professional Qualification                        Professional Qualifications\n",
       "Clubs & Associations                Names of Clubs and Other extra activities\n",
       "Sports                                                        Names of Sports\n",
       "Leadership                      Activites/Clubs involving leadership training\n",
       "Skills & Abilities           Skills developed through said activities/trai...\n",
       "Working Experince                                 Histroy of Work Experinence\n",
       "Function                               Current Role the candidate applying to\n",
       "Source                                  \"Where did you heard about this job?\"\n",
       "Purpose                      What do you think is your life’s purpose and ...\n",
       "About company                                               About the company"
      ]
     },
     "execution_count": 3,
     "metadata": {},
     "output_type": "execute_result"
    }
   ],
   "source": [
    "schema_df = pd.read_csv('schema.csv', index_col='column name')\n",
    "schema_df"
   ]
  },
  {
   "cell_type": "code",
   "execution_count": 4,
   "metadata": {},
   "outputs": [
    {
     "data": {
      "text/plain": [
       "No     860\n",
       "Yes     34\n",
       "Name: Selected, dtype: int64"
      ]
     },
     "execution_count": 4,
     "metadata": {},
     "output_type": "execute_result"
    }
   ],
   "source": [
    "df['Selected'].value_counts()"
   ]
  },
  {
   "cell_type": "markdown",
   "metadata": {},
   "source": [
    "#### Cleaning the Dataset for preprocessing\n",
    "\n",
    "- The column named `Unnamed: 22` is removed\n",
    "- Longer Columns Names are reduced to short names\n",
    "- Changing inputs from the `Selected` column to `True` or `False` \n",
    "- Rounding up the Age"
   ]
  },
  {
   "cell_type": "code",
   "execution_count": 5,
   "metadata": {},
   "outputs": [],
   "source": [
    "# removing the a column for the dataframe\n",
    "del df['Unnamed: 22']\n",
    "# changing the names of the columns\n",
    "df.rename(columns={'What do you think is your life’s purpose and why do you think having a purpose is important? (100 words or less)':'Purpose','Describe 5 things that attracted you to Unilever.':'About company'}, inplace=True)\n",
    "# changing all the Yes and No to True or False\n",
    "df['Selected'] = df['Selected'].map({'Yes':True,'No':False})\n",
    "# rounding off the age\n",
    "df['Age'] = df['Age'].apply(round)"
   ]
  },
  {
   "cell_type": "code",
   "execution_count": 16,
   "metadata": {},
   "outputs": [],
   "source": [
    "from nltk.tokenize import sent_tokenize, word_tokenize, PunktSentenceTokenizer\n",
    "from nltk.corpus import stopwords\n",
    "from nltk import ne_chunk\n",
    "from nltk import pos_tag\n",
    "from re import sub\n",
    "\n",
    "\n",
    "STOPWORDS = set(stopwords.words(\"english\"))"
   ]
  },
  {
   "cell_type": "markdown",
   "metadata": {},
   "source": [
    "#### Algorithms for cleaning up sentences"
   ]
  },
  {
   "cell_type": "code",
   "execution_count": 17,
   "metadata": {},
   "outputs": [],
   "source": [
    "def cleanup_bulletpoints(sentence):\n",
    "    \"\"\"Removes non alphanumeric characters\n",
    "    from the sentence\n",
    "    \"\"\"\n",
    "    return sub('[^A-Za-z0-9]+', ' ', sentence)"
   ]
  },
  {
   "cell_type": "code",
   "execution_count": 18,
   "metadata": {},
   "outputs": [],
   "source": [
    "def cleanup_sentence(sentence):\n",
    "    \"\"\"Removes stopwords and unnecessary tags\n",
    "    from the sentence\n",
    "    \"\"\"\n",
    "    global STOPWORDS\n",
    "    words = word_tokenize(sentence)\n",
    "    filter_sentence = [w for w in words if w not in STOPWORDS]\n",
    "    return \" \".join(w for w in filter_sentence)"
   ]
  },
  {
   "cell_type": "markdown",
   "metadata": {},
   "source": [
    "#### Scoring Algorithm"
   ]
  },
  {
   "cell_type": "code",
   "execution_count": 19,
   "metadata": {},
   "outputs": [],
   "source": [
    "def advanced_search(sentence):\n",
    "    \"\"\"search if any keyword is mentioned in the \n",
    "    sentence (advanced)\n",
    "    TODO: edit this part\n",
    "    \"\"\"\n",
    "    words = word_tokenize(sentence)\n",
    "    tagged = pos_tag(words)\n",
    "    namedEnt = ne_chunk(tagged)\n",
    "    return {(\" \".join(c[0] for c in chunk), chunk.label())for chunk in namedEnt if hasattr(chunk,'label')}"
   ]
  },
  {
   "cell_type": "code",
   "execution_count": 20,
   "metadata": {},
   "outputs": [
    {
     "name": "stdout",
     "output_type": "stream",
     "text": [
      "{('Team Captain School Drama Circle', 'PERSON'), ('PERADENIYA', 'ORGANIZATION'), ('Scrabble Club', 'PERSON'), ('Director Finance English Debating Club', 'PERSON'), ('Psychology Student Union Student Co', 'PERSON'), ('SCHOOL Mooting Club', 'ORGANIZATION'), ('UNIVERSITY OF', 'ORGANIZATION'), ('Senior Player Senior School Choir', 'PERSON'), ('DRAMSOC University Peradeniya Ceylon Drama Circle Faculty', 'ORGANIZATION'), ('SCHOOL', 'ORGANIZATION'), ('Interact Club', 'ORGANIZATION')}\n"
     ]
    }
   ],
   "source": [
    "sentence = df.loc[1,'Clubs & Associations']\n",
    "filter_sentence = cleanup_sentence(cleanup_bulletpoints(sentence))\n",
    "print(advanced_search(filter_sentence))"
   ]
  }
 ],
 "metadata": {
  "kernelspec": {
   "display_name": "Python 3",
   "language": "python",
   "name": "python3"
  },
  "language_info": {
   "codemirror_mode": {
    "name": "ipython",
    "version": 3
   },
   "file_extension": ".py",
   "mimetype": "text/x-python",
   "name": "python",
   "nbconvert_exporter": "python",
   "pygments_lexer": "ipython3",
   "version": "3.8.5"
  }
 },
 "nbformat": 4,
 "nbformat_minor": 4
}
