{
 "cells": [
  {
   "cell_type": "markdown",
   "metadata": {},
   "source": [
    "This notebook contains a small analysis of the dataset we are working with."
   ]
  },
  {
   "cell_type": "code",
   "execution_count": 1,
   "metadata": {},
   "outputs": [],
   "source": [
    "import pandas as pd"
   ]
  },
  {
   "cell_type": "markdown",
   "metadata": {},
   "source": [
    "#### Reading the dataset"
   ]
  },
  {
   "cell_type": "code",
   "execution_count": 2,
   "metadata": {
    "scrolled": false
   },
   "outputs": [],
   "source": [
    "df = pd.read_csv(\"data.tsv\",sep=\"\\t\")"
   ]
  },
  {
   "cell_type": "markdown",
   "metadata": {},
   "source": [
    "#### Details about the Dataset"
   ]
  },
  {
   "cell_type": "code",
   "execution_count": 3,
   "metadata": {
    "scrolled": true
   },
   "outputs": [],
   "source": [
    "schema_df = pd.read_csv('schema.csv', index_col='column name')"
   ]
  },
  {
   "cell_type": "code",
   "execution_count": 4,
   "metadata": {},
   "outputs": [],
   "source": [
    "df['Selected'].value_counts();"
   ]
  },
  {
   "cell_type": "markdown",
   "metadata": {},
   "source": [
    "#### Cleaning the Dataset for preprocessing\n",
    "\n",
    "- The column named `Unnamed: 22` is removed\n",
    "- Longer Columns Names are reduced to short names\n",
    "- Changing inputs from the `Selected` column to `1` or `0` \n",
    "- Rounding up the Age"
   ]
  },
  {
   "cell_type": "code",
   "execution_count": 5,
   "metadata": {},
   "outputs": [],
   "source": [
    "# removing the a column for the dataframe\n",
    "del df['Unnamed: 22']\n",
    "# changing the names of the columns\n",
    "df.rename(columns={'What do you think is your life’s purpose and why do you think having a purpose is important? (100 words or less)':'Purpose','Describe 5 things that attracted you to Unilever.':'About company'}, inplace=True)\n",
    "# changing all the Yes and No to True or False\n",
    "df['Selected'] = df['Selected'].map({'Yes':1,'No':0})\n",
    "df['Working Experience'] = df['Working Experience'].map({'Yes':1,'No':0})\n",
    "df['Gender'] = df['Gender'].map({'Male':1,'Female':0})\n",
    "df['LinkedIn Profile'] = df['LinkedIn Profile'].map({'Yes':1,'No':0})\n",
    "# rounding off the age\n",
    "df['Age'] = df['Age'].apply(round)"
   ]
  },
  {
   "cell_type": "markdown",
   "metadata": {},
   "source": [
    "#### Importing modules for NLP"
   ]
  },
  {
   "cell_type": "code",
   "execution_count": 6,
   "metadata": {},
   "outputs": [],
   "source": [
    "from nltk.tokenize import sent_tokenize, word_tokenize, PunktSentenceTokenizer\n",
    "from nltk.corpus import stopwords\n",
    "from nltk import ne_chunk\n",
    "from nltk import pos_tag\n",
    "from re import sub\n",
    "\n",
    "STOPWORDS = set(stopwords.words(\"english\"))"
   ]
  },
  {
   "cell_type": "markdown",
   "metadata": {},
   "source": [
    "#### Algorithms for cleaning up sentences"
   ]
  },
  {
   "cell_type": "code",
   "execution_count": 7,
   "metadata": {},
   "outputs": [],
   "source": [
    "from src.utils.clean_sentences import cleanup_sentence, cleanup_bulletpoints, cleanup_brackets"
   ]
  },
  {
   "cell_type": "markdown",
   "metadata": {},
   "source": [
    "#### Scoring Algorithm for Clubs"
   ]
  },
  {
   "cell_type": "code",
   "execution_count": 8,
   "metadata": {},
   "outputs": [],
   "source": [
    "from src.utils.extract_keypoints_clubs import clubs_main"
   ]
  },
  {
   "cell_type": "code",
   "execution_count": 9,
   "metadata": {},
   "outputs": [],
   "source": [
    "df[\"Clubs & Associations\"] = df[\"Clubs & Associations\"].fillna(\"None\")"
   ]
  },
  {
   "cell_type": "code",
   "execution_count": 10,
   "metadata": {},
   "outputs": [],
   "source": [
    "df[\"Clubs & Associations\"] = df[\"Clubs & Associations\"].apply(clubs_main)"
   ]
  },
  {
   "cell_type": "markdown",
   "metadata": {},
   "source": [
    "#### Scoring algorithm for prof. qualification"
   ]
  },
  {
   "cell_type": "code",
   "execution_count": 11,
   "metadata": {},
   "outputs": [],
   "source": [
    "from src.utils.extract_keypoints_qualification import prof_qualification_main"
   ]
  },
  {
   "cell_type": "code",
   "execution_count": 12,
   "metadata": {},
   "outputs": [],
   "source": [
    "df['Professional Qualification'] = df['Professional Qualification'].fillna(\"None\")"
   ]
  },
  {
   "cell_type": "code",
   "execution_count": 13,
   "metadata": {},
   "outputs": [],
   "source": [
    "df[\"Professional Qualification\"] = df[\"Professional Qualification\"].apply(prof_qualification_main) "
   ]
  },
  {
   "cell_type": "markdown",
   "metadata": {},
   "source": [
    "#### Calculating the score for sports"
   ]
  },
  {
   "cell_type": "code",
   "execution_count": 14,
   "metadata": {},
   "outputs": [],
   "source": [
    "from src.utils.extract_keypoints_sport import sports_main"
   ]
  },
  {
   "cell_type": "code",
   "execution_count": 15,
   "metadata": {},
   "outputs": [],
   "source": [
    "df['Sports'] = df['Sports'].fillna(\"None\")"
   ]
  },
  {
   "cell_type": "code",
   "execution_count": 16,
   "metadata": {},
   "outputs": [],
   "source": [
    "df['Sports'] = df['Sports'].apply(sports_main)"
   ]
  },
  {
   "cell_type": "code",
   "execution_count": 17,
   "metadata": {},
   "outputs": [],
   "source": [
    "filt = (df[\"Selected\"] == True);"
   ]
  },
  {
   "cell_type": "code",
   "execution_count": 18,
   "metadata": {},
   "outputs": [],
   "source": [
    "df.loc[filt,[\"Name\",\"Sports\"]];"
   ]
  },
  {
   "cell_type": "markdown",
   "metadata": {},
   "source": [
    "#### Calculating the score for leadership"
   ]
  },
  {
   "cell_type": "code",
   "execution_count": 19,
   "metadata": {},
   "outputs": [],
   "source": [
    "from src.utils.extract_keypoints_leadership import leadership_main"
   ]
  },
  {
   "cell_type": "code",
   "execution_count": 20,
   "metadata": {},
   "outputs": [],
   "source": [
    "df['Leadership'] = df['Leadership'].fillna(\"None\")"
   ]
  },
  {
   "cell_type": "code",
   "execution_count": 21,
   "metadata": {},
   "outputs": [],
   "source": [
    "df['Leadership'] = df['Leadership'].apply(leadership_main)"
   ]
  },
  {
   "cell_type": "code",
   "execution_count": 22,
   "metadata": {
    "scrolled": false
   },
   "outputs": [],
   "source": [
    "df.loc[filt,[\"Name\",\"Sports\",\"Leadership\",\"Clubs & Associations\",\"Professional Qualification\"]];"
   ]
  },
  {
   "cell_type": "markdown",
   "metadata": {},
   "source": [
    "#### Calculating the score of skills and abilities"
   ]
  },
  {
   "cell_type": "code",
   "execution_count": 23,
   "metadata": {},
   "outputs": [],
   "source": [
    "from src.utils.extract_keypoints_skills import find_similarity"
   ]
  },
  {
   "cell_type": "code",
   "execution_count": 24,
   "metadata": {},
   "outputs": [],
   "source": [
    "df['Skills & Abilities'] = df['Skills & Abilities'].fillna(\"None\")"
   ]
  },
  {
   "cell_type": "code",
   "execution_count": 25,
   "metadata": {},
   "outputs": [
    {
     "name": "stderr",
     "output_type": "stream",
     "text": [
      "/home/kana/_work/hr_project/HR_ML_project/src/utils/extract_keypoints_skills.py:18: UserWarning: [W008] Evaluating Doc.similarity based on empty vectors.\n",
      "  return doc1.similarity(doc2)\n"
     ]
    }
   ],
   "source": [
    "df['Skills & Abilities'] = df['Skills & Abilities'].apply(find_similarity)"
   ]
  },
  {
   "cell_type": "code",
   "execution_count": 26,
   "metadata": {},
   "outputs": [],
   "source": [
    "df.loc[filt,[\"Name\",\"Skills & Abilities\"]];"
   ]
  },
  {
   "cell_type": "markdown",
   "metadata": {},
   "source": [
    "#### Calculating the score  for \"purpose\" column"
   ]
  },
  {
   "cell_type": "code",
   "execution_count": 27,
   "metadata": {},
   "outputs": [],
   "source": [
    "from src.utils.extract_keypoints_purpose import find_similarity"
   ]
  },
  {
   "cell_type": "code",
   "execution_count": 28,
   "metadata": {},
   "outputs": [],
   "source": [
    "df['Purpose'] = df['Purpose'].fillna(\"None\")"
   ]
  },
  {
   "cell_type": "code",
   "execution_count": 29,
   "metadata": {},
   "outputs": [
    {
     "name": "stderr",
     "output_type": "stream",
     "text": [
      "/home/kana/_work/hr_project/HR_ML_project/src/utils/extract_keypoints_purpose.py:17: UserWarning: [W008] Evaluating Doc.similarity based on empty vectors.\n",
      "  return doc1.similarity(doc2)\n"
     ]
    }
   ],
   "source": [
    "df['Purpose'] = df['Purpose'].apply(find_similarity)"
   ]
  },
  {
   "cell_type": "code",
   "execution_count": 30,
   "metadata": {},
   "outputs": [],
   "source": [
    "df.loc[filt,[\"Name\",\"Purpose\"]];"
   ]
  },
  {
   "cell_type": "markdown",
   "metadata": {},
   "source": [
    "#### Calculating the score for \"company\" column"
   ]
  },
  {
   "cell_type": "code",
   "execution_count": 31,
   "metadata": {},
   "outputs": [],
   "source": [
    "from src.utils.extract_keypoints_company import find_similarity"
   ]
  },
  {
   "cell_type": "code",
   "execution_count": 32,
   "metadata": {},
   "outputs": [],
   "source": [
    "df['About company'] = df['About company'].fillna(\"None\")"
   ]
  },
  {
   "cell_type": "code",
   "execution_count": 33,
   "metadata": {},
   "outputs": [
    {
     "name": "stderr",
     "output_type": "stream",
     "text": [
      "/home/kana/_work/hr_project/HR_ML_project/src/utils/extract_keypoints_company.py:18: UserWarning: [W008] Evaluating Doc.similarity based on empty vectors.\n",
      "  return doc1.similarity(doc2)\n"
     ]
    }
   ],
   "source": [
    "df['About company'] = df['About company'].apply(find_similarity)"
   ]
  },
  {
   "cell_type": "markdown",
   "metadata": {},
   "source": [
    "#### Calculating the score for \"Function\" column"
   ]
  },
  {
   "cell_type": "code",
   "execution_count": 34,
   "metadata": {},
   "outputs": [],
   "source": [
    "df['Function'].unique();"
   ]
  },
  {
   "cell_type": "code",
   "execution_count": 35,
   "metadata": {
    "scrolled": false
   },
   "outputs": [],
   "source": [
    "df['Area Of Study'].unique();"
   ]
  },
  {
   "cell_type": "markdown",
   "metadata": {},
   "source": [
    "### Classification"
   ]
  },
  {
   "cell_type": "markdown",
   "metadata": {},
   "source": [
    "Dropping `area of study` , `degree`"
   ]
  },
  {
   "cell_type": "code",
   "execution_count": 36,
   "metadata": {},
   "outputs": [],
   "source": [
    "inputs = df.drop(['Selected','Name','Graduation Year','Date of Birth','Area Of Study','Degree Course','University','Duration'],axis='columns')"
   ]
  },
  {
   "cell_type": "markdown",
   "metadata": {},
   "source": [
    "separating target variable from the input variable"
   ]
  },
  {
   "cell_type": "code",
   "execution_count": 37,
   "metadata": {},
   "outputs": [
    {
     "data": {
      "text/plain": [
       "0    1\n",
       "1    1\n",
       "2    1\n",
       "3    1\n",
       "4    1\n",
       "Name: Selected, dtype: int64"
      ]
     },
     "execution_count": 37,
     "metadata": {},
     "output_type": "execute_result"
    }
   ],
   "source": [
    "target = df['Selected']\n",
    "target.head()"
   ]
  },
  {
   "cell_type": "markdown",
   "metadata": {},
   "source": [
    "Encoding the categorical values in the dataset"
   ]
  },
  {
   "cell_type": "code",
   "execution_count": 38,
   "metadata": {},
   "outputs": [],
   "source": [
    "from sklearn.preprocessing import LabelEncoder"
   ]
  },
  {
   "cell_type": "code",
   "execution_count": 39,
   "metadata": {},
   "outputs": [],
   "source": [
    "label_function = LabelEncoder()\n",
    "label_source = LabelEncoder()\n",
    "label_class = LabelEncoder()"
   ]
  },
  {
   "cell_type": "code",
   "execution_count": 40,
   "metadata": {
    "scrolled": true
   },
   "outputs": [],
   "source": [
    "inputs['function_label'] = label_function.fit_transform(inputs['Function'])\n",
    "inputs['source_label'] = label_source.fit_transform(inputs['Source of Information'])\n",
    "inputs['class_label'] = label_class.fit_transform(inputs['Class'])"
   ]
  },
  {
   "cell_type": "markdown",
   "metadata": {},
   "source": [
    "dropping the columns into new table"
   ]
  },
  {
   "cell_type": "code",
   "execution_count": 41,
   "metadata": {},
   "outputs": [
    {
     "data": {
      "text/html": [
       "<div>\n",
       "<style scoped>\n",
       "    .dataframe tbody tr th:only-of-type {\n",
       "        vertical-align: middle;\n",
       "    }\n",
       "\n",
       "    .dataframe tbody tr th {\n",
       "        vertical-align: top;\n",
       "    }\n",
       "\n",
       "    .dataframe thead th {\n",
       "        text-align: right;\n",
       "    }\n",
       "</style>\n",
       "<table border=\"1\" class=\"dataframe\">\n",
       "  <thead>\n",
       "    <tr style=\"text-align: right;\">\n",
       "      <th></th>\n",
       "      <th>Age</th>\n",
       "      <th>Gender</th>\n",
       "      <th>LinkedIn Profile</th>\n",
       "      <th>Professional Qualification</th>\n",
       "      <th>Clubs &amp; Associations</th>\n",
       "      <th>Sports</th>\n",
       "      <th>Leadership</th>\n",
       "      <th>Skills &amp; Abilities</th>\n",
       "      <th>Working Experience</th>\n",
       "      <th>Purpose</th>\n",
       "      <th>About company</th>\n",
       "      <th>function_label</th>\n",
       "      <th>source_label</th>\n",
       "      <th>class_label</th>\n",
       "    </tr>\n",
       "  </thead>\n",
       "  <tbody>\n",
       "    <tr>\n",
       "      <th>0</th>\n",
       "      <td>24</td>\n",
       "      <td>1</td>\n",
       "      <td>1</td>\n",
       "      <td>0.0</td>\n",
       "      <td>0.5</td>\n",
       "      <td>1</td>\n",
       "      <td>0.0</td>\n",
       "      <td>0.855535</td>\n",
       "      <td>0</td>\n",
       "      <td>0.845985</td>\n",
       "      <td>0.597256</td>\n",
       "      <td>0</td>\n",
       "      <td>4</td>\n",
       "      <td>3</td>\n",
       "    </tr>\n",
       "    <tr>\n",
       "      <th>1</th>\n",
       "      <td>24</td>\n",
       "      <td>0</td>\n",
       "      <td>1</td>\n",
       "      <td>0.0</td>\n",
       "      <td>0.5</td>\n",
       "      <td>2</td>\n",
       "      <td>3.0</td>\n",
       "      <td>0.778193</td>\n",
       "      <td>1</td>\n",
       "      <td>0.865453</td>\n",
       "      <td>0.865408</td>\n",
       "      <td>2</td>\n",
       "      <td>2</td>\n",
       "      <td>6</td>\n",
       "    </tr>\n",
       "    <tr>\n",
       "      <th>2</th>\n",
       "      <td>24</td>\n",
       "      <td>0</td>\n",
       "      <td>1</td>\n",
       "      <td>0.0</td>\n",
       "      <td>0.0</td>\n",
       "      <td>4</td>\n",
       "      <td>3.0</td>\n",
       "      <td>0.816065</td>\n",
       "      <td>1</td>\n",
       "      <td>0.827561</td>\n",
       "      <td>0.845935</td>\n",
       "      <td>3</td>\n",
       "      <td>4</td>\n",
       "      <td>6</td>\n",
       "    </tr>\n",
       "    <tr>\n",
       "      <th>3</th>\n",
       "      <td>26</td>\n",
       "      <td>1</td>\n",
       "      <td>1</td>\n",
       "      <td>0.0</td>\n",
       "      <td>0.0</td>\n",
       "      <td>1</td>\n",
       "      <td>0.0</td>\n",
       "      <td>0.830143</td>\n",
       "      <td>1</td>\n",
       "      <td>0.805668</td>\n",
       "      <td>0.835214</td>\n",
       "      <td>4</td>\n",
       "      <td>0</td>\n",
       "      <td>2</td>\n",
       "    </tr>\n",
       "    <tr>\n",
       "      <th>4</th>\n",
       "      <td>26</td>\n",
       "      <td>0</td>\n",
       "      <td>1</td>\n",
       "      <td>1.5</td>\n",
       "      <td>3.0</td>\n",
       "      <td>1</td>\n",
       "      <td>2.0</td>\n",
       "      <td>0.823671</td>\n",
       "      <td>0</td>\n",
       "      <td>0.809380</td>\n",
       "      <td>0.812789</td>\n",
       "      <td>2</td>\n",
       "      <td>4</td>\n",
       "      <td>2</td>\n",
       "    </tr>\n",
       "    <tr>\n",
       "      <th>...</th>\n",
       "      <td>...</td>\n",
       "      <td>...</td>\n",
       "      <td>...</td>\n",
       "      <td>...</td>\n",
       "      <td>...</td>\n",
       "      <td>...</td>\n",
       "      <td>...</td>\n",
       "      <td>...</td>\n",
       "      <td>...</td>\n",
       "      <td>...</td>\n",
       "      <td>...</td>\n",
       "      <td>...</td>\n",
       "      <td>...</td>\n",
       "      <td>...</td>\n",
       "    </tr>\n",
       "    <tr>\n",
       "      <th>889</th>\n",
       "      <td>26</td>\n",
       "      <td>0</td>\n",
       "      <td>1</td>\n",
       "      <td>0.0</td>\n",
       "      <td>0.0</td>\n",
       "      <td>2</td>\n",
       "      <td>0.0</td>\n",
       "      <td>0.765063</td>\n",
       "      <td>0</td>\n",
       "      <td>0.858381</td>\n",
       "      <td>0.782030</td>\n",
       "      <td>0</td>\n",
       "      <td>1</td>\n",
       "      <td>6</td>\n",
       "    </tr>\n",
       "    <tr>\n",
       "      <th>890</th>\n",
       "      <td>21</td>\n",
       "      <td>0</td>\n",
       "      <td>1</td>\n",
       "      <td>1.0</td>\n",
       "      <td>0.0</td>\n",
       "      <td>1</td>\n",
       "      <td>0.0</td>\n",
       "      <td>0.741437</td>\n",
       "      <td>0</td>\n",
       "      <td>0.850830</td>\n",
       "      <td>0.794379</td>\n",
       "      <td>3</td>\n",
       "      <td>1</td>\n",
       "      <td>2</td>\n",
       "    </tr>\n",
       "    <tr>\n",
       "      <th>891</th>\n",
       "      <td>23</td>\n",
       "      <td>1</td>\n",
       "      <td>1</td>\n",
       "      <td>0.0</td>\n",
       "      <td>0.0</td>\n",
       "      <td>1</td>\n",
       "      <td>0.0</td>\n",
       "      <td>0.775088</td>\n",
       "      <td>0</td>\n",
       "      <td>0.836564</td>\n",
       "      <td>0.781565</td>\n",
       "      <td>3</td>\n",
       "      <td>4</td>\n",
       "      <td>6</td>\n",
       "    </tr>\n",
       "    <tr>\n",
       "      <th>892</th>\n",
       "      <td>20</td>\n",
       "      <td>1</td>\n",
       "      <td>1</td>\n",
       "      <td>0.0</td>\n",
       "      <td>0.0</td>\n",
       "      <td>2</td>\n",
       "      <td>0.0</td>\n",
       "      <td>0.874758</td>\n",
       "      <td>1</td>\n",
       "      <td>0.860528</td>\n",
       "      <td>0.848885</td>\n",
       "      <td>1</td>\n",
       "      <td>2</td>\n",
       "      <td>2</td>\n",
       "    </tr>\n",
       "    <tr>\n",
       "      <th>893</th>\n",
       "      <td>21</td>\n",
       "      <td>1</td>\n",
       "      <td>1</td>\n",
       "      <td>0.0</td>\n",
       "      <td>0.0</td>\n",
       "      <td>1</td>\n",
       "      <td>0.0</td>\n",
       "      <td>0.712749</td>\n",
       "      <td>1</td>\n",
       "      <td>0.863967</td>\n",
       "      <td>0.753261</td>\n",
       "      <td>3</td>\n",
       "      <td>4</td>\n",
       "      <td>2</td>\n",
       "    </tr>\n",
       "  </tbody>\n",
       "</table>\n",
       "<p>894 rows × 14 columns</p>\n",
       "</div>"
      ],
      "text/plain": [
       "     Age  Gender  LinkedIn Profile  Professional Qualification  \\\n",
       "0     24       1                 1                         0.0   \n",
       "1     24       0                 1                         0.0   \n",
       "2     24       0                 1                         0.0   \n",
       "3     26       1                 1                         0.0   \n",
       "4     26       0                 1                         1.5   \n",
       "..   ...     ...               ...                         ...   \n",
       "889   26       0                 1                         0.0   \n",
       "890   21       0                 1                         1.0   \n",
       "891   23       1                 1                         0.0   \n",
       "892   20       1                 1                         0.0   \n",
       "893   21       1                 1                         0.0   \n",
       "\n",
       "     Clubs & Associations  Sports  Leadership  Skills & Abilities  \\\n",
       "0                     0.5       1         0.0            0.855535   \n",
       "1                     0.5       2         3.0            0.778193   \n",
       "2                     0.0       4         3.0            0.816065   \n",
       "3                     0.0       1         0.0            0.830143   \n",
       "4                     3.0       1         2.0            0.823671   \n",
       "..                    ...     ...         ...                 ...   \n",
       "889                   0.0       2         0.0            0.765063   \n",
       "890                   0.0       1         0.0            0.741437   \n",
       "891                   0.0       1         0.0            0.775088   \n",
       "892                   0.0       2         0.0            0.874758   \n",
       "893                   0.0       1         0.0            0.712749   \n",
       "\n",
       "     Working Experience   Purpose  About company  function_label  \\\n",
       "0                     0  0.845985       0.597256               0   \n",
       "1                     1  0.865453       0.865408               2   \n",
       "2                     1  0.827561       0.845935               3   \n",
       "3                     1  0.805668       0.835214               4   \n",
       "4                     0  0.809380       0.812789               2   \n",
       "..                  ...       ...            ...             ...   \n",
       "889                   0  0.858381       0.782030               0   \n",
       "890                   0  0.850830       0.794379               3   \n",
       "891                   0  0.836564       0.781565               3   \n",
       "892                   1  0.860528       0.848885               1   \n",
       "893                   1  0.863967       0.753261               3   \n",
       "\n",
       "     source_label  class_label  \n",
       "0               4            3  \n",
       "1               2            6  \n",
       "2               4            6  \n",
       "3               0            2  \n",
       "4               4            2  \n",
       "..            ...          ...  \n",
       "889             1            6  \n",
       "890             1            2  \n",
       "891             4            6  \n",
       "892             2            2  \n",
       "893             4            2  \n",
       "\n",
       "[894 rows x 14 columns]"
      ]
     },
     "execution_count": 41,
     "metadata": {},
     "output_type": "execute_result"
    }
   ],
   "source": [
    "new_df = inputs.drop(['Function','Source of Information','Class'],axis='columns')\n",
    "new_df"
   ]
  },
  {
   "cell_type": "markdown",
   "metadata": {},
   "source": [
    "splitting the dataset training and test data"
   ]
  },
  {
   "cell_type": "code",
   "execution_count": 42,
   "metadata": {},
   "outputs": [],
   "source": [
    "from sklearn.model_selection import train_test_split"
   ]
  },
  {
   "cell_type": "code",
   "execution_count": 43,
   "metadata": {},
   "outputs": [],
   "source": [
    "input_train, input_test, target_train, target_test = train_test_split(new_df, target, test_size = 0.2)"
   ]
  },
  {
   "cell_type": "markdown",
   "metadata": {},
   "source": [
    "Training the dataset"
   ]
  },
  {
   "cell_type": "code",
   "execution_count": 44,
   "metadata": {},
   "outputs": [],
   "source": [
    "from sklearn import tree"
   ]
  },
  {
   "cell_type": "code",
   "execution_count": 45,
   "metadata": {},
   "outputs": [],
   "source": [
    "model = tree.DecisionTreeClassifier()"
   ]
  },
  {
   "cell_type": "code",
   "execution_count": 46,
   "metadata": {},
   "outputs": [
    {
     "data": {
      "text/plain": [
       "DecisionTreeClassifier()"
      ]
     },
     "execution_count": 46,
     "metadata": {},
     "output_type": "execute_result"
    }
   ],
   "source": [
    "model.fit(input_train, target_train)"
   ]
  },
  {
   "cell_type": "code",
   "execution_count": 47,
   "metadata": {},
   "outputs": [
    {
     "data": {
      "text/plain": [
       "0.8994413407821229"
      ]
     },
     "execution_count": 47,
     "metadata": {},
     "output_type": "execute_result"
    }
   ],
   "source": [
    "model.score(input_test, target_test)"
   ]
  },
  {
   "cell_type": "code",
   "execution_count": 48,
   "metadata": {},
   "outputs": [
    {
     "data": {
      "text/plain": [
       "Index(['Age', 'Gender', 'LinkedIn Profile', 'Professional Qualification',\n",
       "       'Clubs & Associations', 'Sports', 'Leadership', 'Skills & Abilities',\n",
       "       'Working Experience', 'Purpose', 'About company', 'function_label',\n",
       "       'source_label', 'class_label'],\n",
       "      dtype='object')"
      ]
     },
     "execution_count": 48,
     "metadata": {},
     "output_type": "execute_result"
    }
   ],
   "source": [
    "new_df.columns"
   ]
  },
  {
   "cell_type": "markdown",
   "metadata": {},
   "source": [
    "### Prediction"
   ]
  },
  {
   "cell_type": "code",
   "execution_count": 49,
   "metadata": {},
   "outputs": [
    {
     "name": "stdout",
     "output_type": "stream",
     "text": [
      "1\t ['Customer Development', 'Finance', 'HR', 'Marketing', 'Supply Chain (Engineering Students are Preferred)']\n",
      "2\t ['Facebook', 'Instagram', 'University', 'Website', 'Word of mouth']\n",
      "3\t ['Distinction', 'Expected - First Class', 'First Class', 'General', 'Merit', 'Second Lower', 'Second Upper', 'Second upper']\n"
     ]
    }
   ],
   "source": [
    "print(\"1\\t\",list(label_function.classes_))\n",
    "print(\"2\\t\",list(label_source.classes_))\n",
    "print(\"3\\t\",list(label_class.classes_))"
   ]
  },
  {
   "cell_type": "markdown",
   "metadata": {},
   "source": [
    "Customer Development label is 0, Finance label is 1 ...\n",
    "\n",
    "Facebook label is 0, Instagram label is 1 ...\n",
    "\n",
    "Distinction label is 0, Expected - First Class is 1"
   ]
  },
  {
   "cell_type": "markdown",
   "metadata": {},
   "source": [
    "#### Change the values of the variable"
   ]
  },
  {
   "cell_type": "code",
   "execution_count": 55,
   "metadata": {},
   "outputs": [],
   "source": [
    "Age = 21\n",
    "Gender = 0 # if male it is 1 if female it is 0\n",
    "LinkedIn = 0 # if it is present 1 if not 0\n",
    "Professional_Qualification= \"I have done CIMA, CIM, ACCA, CA\" # enter paragraph here\n",
    "Clubs = \"I have being a member in LEO and AIESEC\" # enter clubs you have gone to\n",
    "Sports = \"Basketball, swimming , hockey\"#enter the sports played\n",
    "Leadership = \"Captain in the Basketball team and President of sports club\"\n",
    "Skills  = \" Team work Communication Emotional Intelligence Leadership\\\n",
    "        Problem Solving Negotiation Creativity Public Speaking\\\n",
    "        PresentationEmpathy Listening IT Skills PowerBI\"\n",
    "work_exp =  1 # 1 if yes else 0\n",
    "purpose = \"\"\"Plan good Society Happiness Energy Focus Future Service\n",
    "Navigate Impact Sustainability Legacy Unique Authentic Better Safe \"\"\"\n",
    "company = \"\"\"Work Culture Learning Exposure Global Multinational\n",
    "Purpose Pioneer Enviornment Development leadership Career path\n",
    "Inclusion Agile Diversity respect team work  Salary growth \"\"\""
   ]
  },
  {
   "cell_type": "code",
   "execution_count": 56,
   "metadata": {},
   "outputs": [],
   "source": [
    "function = 2 # Finance\n",
    "source = 0 # Facebook\n",
    "_class = 0 # distinction"
   ]
  },
  {
   "cell_type": "markdown",
   "metadata": {},
   "source": [
    "#### Getting scores of sentences"
   ]
  },
  {
   "cell_type": "code",
   "execution_count": 57,
   "metadata": {},
   "outputs": [],
   "source": [
    "Professional_Qualification = prof_qualification_main(Professional_Qualification)\n",
    "Clubs = clubs_main(Clubs)\n",
    "Sports = sports_main(Sports)\n",
    "Leadership = leadership_main(Leadership)\n",
    "from src.utils.extract_keypoints_skills import find_similarity\n",
    "Skills = find_similarity(Skills)\n",
    "from src.utils.extract_keypoints_purpose import find_similarity\n",
    "purpose = find_similarity(purpose)\n",
    "from src.utils.extract_keypoints_company import find_similarity\n",
    "company = find_similarity(company)"
   ]
  },
  {
   "cell_type": "markdown",
   "metadata": {},
   "source": [
    "If output (`Selected`) is `1` that means *user* is **selected** else **not selected**"
   ]
  },
  {
   "cell_type": "code",
   "execution_count": 59,
   "metadata": {},
   "outputs": [
    {
     "data": {
      "text/plain": [
       "array([0])"
      ]
     },
     "execution_count": 59,
     "metadata": {},
     "output_type": "execute_result"
    }
   ],
   "source": [
    "model.predict([[Age, Gender, LinkedIn, Professional_Qualification, Clubs, Sports, Leadership, Skills, work_exp ,purpose, company, function, source, _class]])"
   ]
  }
 ],
 "metadata": {
  "kernelspec": {
   "display_name": "Python 3",
   "language": "python",
   "name": "python3"
  },
  "language_info": {
   "codemirror_mode": {
    "name": "ipython",
    "version": 3
   },
   "file_extension": ".py",
   "mimetype": "text/x-python",
   "name": "python",
   "nbconvert_exporter": "python",
   "pygments_lexer": "ipython3",
   "version": "3.8.5"
  }
 },
 "nbformat": 4,
 "nbformat_minor": 4
}
